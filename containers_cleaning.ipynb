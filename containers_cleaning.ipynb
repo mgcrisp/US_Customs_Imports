{
 "cells": [
  {
   "cell_type": "code",
   "execution_count": null,
   "metadata": {},
   "outputs": [],
   "source": [
    "\"\"\"\n",
    "This file is to clean and conduct exploratory data analysis on \n",
    " a US Customs Imports Containers from the year 2018 data set called \"container\"\n",
    "\n",
    "Dataset includes information on US Customs Imports Containers\n",
    "such as weight, size, container number etc. \n",
    "\"\"\""
   ]
  },
  {
   "cell_type": "code",
   "execution_count": 1,
   "metadata": {},
   "outputs": [],
   "source": [
    "# importing modules\n",
    "import pandas as pd\n",
    "import matplotlib.pyplot as plt\n",
    "import numpy as np"
   ]
  },
  {
   "cell_type": "code",
   "execution_count": 2,
   "metadata": {},
   "outputs": [],
   "source": [
    "# importing the data's filepath\n",
    "file_path_containers_0 = 'C:/Users/Public/project_1/bronze layer/containers/ams__container_2018__202001290000_part_0.csv'\n",
    "file_path_containers_1 = 'C:/Users/Public/project_1/bronze layer/containers/ams__container_2018__202001290000_part_1.csv'\n",
    "file_path_containers_2 = 'C:/Users/Public/project_1/bronze layer/containers/ams__container_2018__202001290000_part_2.csv'\n",
    "file_path_containers_3 = 'C:/Users/Public/project_1/bronze layer/containers/ams__container_2018__202001290000_part_3.csv'\n",
    "\n",
    "# creating the dataframes\n",
    "df_containers_0 = pd.read_csv(file_path_containers_0)\n",
    "df_containers_1 = pd.read_csv(file_path_containers_1)\n",
    "df_containers_2 = pd.read_csv(file_path_containers_2)\n",
    "df_containers_3 = pd.read_csv(file_path_containers_3)\n",
    "\n",
    "# concatenating the dataframes into one dataframe\n",
    "containers_2018 = pd.concat([df_containers_0, df_containers_1, \n",
    "                            df_containers_2, df_containers_3], axis=0)\n"
   ]
  },
  {
   "cell_type": "code",
   "execution_count": 3,
   "metadata": {},
   "outputs": [],
   "source": [
    "# creating a log changes file \n",
    "log_file_path = 'C:/Users/Public/project_1/log_file.txt'\n",
    "now = pd.Timestamp.now()\n",
    "\n",
    "# creating a log changes function\n",
    "def log_changes(message):\n",
    "    \"\"\" \n",
    "    Updates a log file with the \"message\" that corresponds to the changes made\n",
    "    with the time stamp that it was ran \n",
    "    \"\"\"\n",
    "\n",
    "    with open(log_file_path, 'a') as f:\n",
    "        message = now.strftime('%Y-%m-%d %H:%M:%S') +': ' + message + ' on the containers table \\n'\n",
    "        f.write(message)"
   ]
  },
  {
   "cell_type": "code",
   "execution_count": 4,
   "metadata": {},
   "outputs": [
    {
     "name": "stdout",
     "output_type": "stream",
     "text": [
      "<class 'pandas.core.frame.DataFrame'>\n",
      "Int64Index: 31512386 entries, 0 to 1512385\n",
      "Data columns (total 11 columns):\n",
      " #   Column                      Dtype \n",
      "---  ------                      ----- \n",
      " 0   identifier                  int64 \n",
      " 1   container_number            object\n",
      " 2   seal_number_1               object\n",
      " 3   seal_number_2               object\n",
      " 4   equipment_description_code  object\n",
      " 5   container_length            int64 \n",
      " 6   container_height            int64 \n",
      " 7   container_width             int64 \n",
      " 8   container_type              object\n",
      " 9   load_status                 object\n",
      " 10  type_of_service             object\n",
      "dtypes: int64(4), object(7)\n",
      "memory usage: 2.8+ GB\n"
     ]
    }
   ],
   "source": [
    "# looking at the data types\n",
    "containers_2018.info()"
   ]
  },
  {
   "cell_type": "code",
   "execution_count": 5,
   "metadata": {},
   "outputs": [
    {
     "data": {
      "text/plain": [
       "identifier                           0\n",
       "container_number                   859\n",
       "seal_number_1                  1101818\n",
       "seal_number_2                 28905377\n",
       "equipment_description_code     2351773\n",
       "container_length                     0\n",
       "container_height                     0\n",
       "container_width                      0\n",
       "container_type                 3741397\n",
       "load_status                      55837\n",
       "type_of_service                3501030\n",
       "dtype: int64"
      ]
     },
     "execution_count": 5,
     "metadata": {},
     "output_type": "execute_result"
    }
   ],
   "source": [
    "# counting the null values\n",
    "containers_2018.isnull().sum()"
   ]
  },
  {
   "cell_type": "code",
   "execution_count": 6,
   "metadata": {},
   "outputs": [
    {
     "data": {
      "text/html": [
       "<div>\n",
       "<style scoped>\n",
       "    .dataframe tbody tr th:only-of-type {\n",
       "        vertical-align: middle;\n",
       "    }\n",
       "\n",
       "    .dataframe tbody tr th {\n",
       "        vertical-align: top;\n",
       "    }\n",
       "\n",
       "    .dataframe thead th {\n",
       "        text-align: right;\n",
       "    }\n",
       "</style>\n",
       "<table border=\"1\" class=\"dataframe\">\n",
       "  <thead>\n",
       "    <tr style=\"text-align: right;\">\n",
       "      <th></th>\n",
       "      <th>identifier</th>\n",
       "      <th>container_number</th>\n",
       "      <th>seal_number_1</th>\n",
       "      <th>seal_number_2</th>\n",
       "      <th>equipment_description_code</th>\n",
       "      <th>container_length</th>\n",
       "      <th>container_height</th>\n",
       "      <th>container_width</th>\n",
       "      <th>container_type</th>\n",
       "      <th>load_status</th>\n",
       "      <th>type_of_service</th>\n",
       "    </tr>\n",
       "  </thead>\n",
       "  <tbody>\n",
       "    <tr>\n",
       "      <th>0</th>\n",
       "      <td>201801010</td>\n",
       "      <td>FCIU9250931</td>\n",
       "      <td>EMCCES9186</td>\n",
       "      <td>NaN</td>\n",
       "      <td>Container</td>\n",
       "      <td>4000</td>\n",
       "      <td>906</td>\n",
       "      <td>800</td>\n",
       "      <td>NaN</td>\n",
       "      <td>Loaded</td>\n",
       "      <td>Container Station</td>\n",
       "    </tr>\n",
       "    <tr>\n",
       "      <th>1</th>\n",
       "      <td>201801011</td>\n",
       "      <td>EITU1595313</td>\n",
       "      <td>EMCCES9076</td>\n",
       "      <td>NaN</td>\n",
       "      <td>Container</td>\n",
       "      <td>4000</td>\n",
       "      <td>906</td>\n",
       "      <td>802</td>\n",
       "      <td>4EB0</td>\n",
       "      <td>Loaded</td>\n",
       "      <td>Container Yard</td>\n",
       "    </tr>\n",
       "    <tr>\n",
       "      <th>2</th>\n",
       "      <td>201801012</td>\n",
       "      <td>FCIU9250931</td>\n",
       "      <td>EMCCES9186</td>\n",
       "      <td>NaN</td>\n",
       "      <td>Container</td>\n",
       "      <td>4000</td>\n",
       "      <td>906</td>\n",
       "      <td>800</td>\n",
       "      <td>NaN</td>\n",
       "      <td>Loaded</td>\n",
       "      <td>Container Station</td>\n",
       "    </tr>\n",
       "    <tr>\n",
       "      <th>3</th>\n",
       "      <td>201801013</td>\n",
       "      <td>BMOU5389685</td>\n",
       "      <td>EMCCES8776</td>\n",
       "      <td>NaN</td>\n",
       "      <td>Container</td>\n",
       "      <td>0</td>\n",
       "      <td>0</td>\n",
       "      <td>0</td>\n",
       "      <td>NaN</td>\n",
       "      <td>Loaded</td>\n",
       "      <td>NaN</td>\n",
       "    </tr>\n",
       "    <tr>\n",
       "      <th>4</th>\n",
       "      <td>201801014</td>\n",
       "      <td>EMCU5289450</td>\n",
       "      <td>EMCCES8446</td>\n",
       "      <td>NaN</td>\n",
       "      <td>Container</td>\n",
       "      <td>4000</td>\n",
       "      <td>900</td>\n",
       "      <td>800</td>\n",
       "      <td>45R1</td>\n",
       "      <td>Loaded</td>\n",
       "      <td>Container Yard</td>\n",
       "    </tr>\n",
       "  </tbody>\n",
       "</table>\n",
       "</div>"
      ],
      "text/plain": [
       "   identifier container_number seal_number_1 seal_number_2  \\\n",
       "0   201801010      FCIU9250931    EMCCES9186           NaN   \n",
       "1   201801011      EITU1595313    EMCCES9076           NaN   \n",
       "2   201801012      FCIU9250931    EMCCES9186           NaN   \n",
       "3   201801013      BMOU5389685    EMCCES8776           NaN   \n",
       "4   201801014      EMCU5289450    EMCCES8446           NaN   \n",
       "\n",
       "  equipment_description_code  container_length  container_height  \\\n",
       "0                  Container              4000               906   \n",
       "1                  Container              4000               906   \n",
       "2                  Container              4000               906   \n",
       "3                  Container                 0                 0   \n",
       "4                  Container              4000               900   \n",
       "\n",
       "   container_width container_type load_status    type_of_service  \n",
       "0              800            NaN      Loaded  Container Station  \n",
       "1              802           4EB0      Loaded     Container Yard  \n",
       "2              800            NaN      Loaded  Container Station  \n",
       "3                0            NaN      Loaded                NaN  \n",
       "4              800           45R1      Loaded     Container Yard  "
      ]
     },
     "execution_count": 6,
     "metadata": {},
     "output_type": "execute_result"
    }
   ],
   "source": [
    "# getting a closer look at the fields\n",
    "containers_2018.head()"
   ]
  },
  {
   "cell_type": "code",
   "execution_count": 7,
   "metadata": {},
   "outputs": [
    {
     "name": "stdout",
     "output_type": "stream",
     "text": [
      "['EMCCES9186' 'EMCCES9076' 'EMCCES8776' ... 'AS60179845' '2282279'\n",
      " 'G5176944']\n",
      "[nan '989593' 'F8865679' ... 'MX0545113' 'MX0545118' 'MX0533852']\n",
      "['Container Station' 'Container Yard' nan 'Pier to Pier' 'House to House'\n",
      " 'Pier to House' 'Break Bulk' 'House to Pier' 'Non Containerized'\n",
      " 'Headload or Devanning' 'Roll on Roll Off' 'Mixed Delivery']\n"
     ]
    }
   ],
   "source": [
    "# evaluating fields with the most nullls \n",
    "print(containers_2018['seal_number_1'].unique())\n",
    "print(containers_2018['seal_number_2'].unique())\n",
    "print(containers_2018['type_of_service'].unique())"
   ]
  },
  {
   "cell_type": "code",
   "execution_count": null,
   "metadata": {},
   "outputs": [],
   "source": [
    "# checking if description code is usable \n",
    "containers_2018['equipment_description_code'].unique()"
   ]
  },
  {
   "cell_type": "code",
   "execution_count": 4,
   "metadata": {},
   "outputs": [],
   "source": [
    "# dropping the columns that would not be useful for my use case \n",
    "# and logging the change\n",
    "containers_2018.drop(['equipment_description_code','seal_number_1', 'seal_number_2', 'load_status', \n",
    "                        'type_of_service'], axis = 1 , inplace = True)\n",
    "log_changes('dropping columns that are not useful')"
   ]
  },
  {
   "cell_type": "code",
   "execution_count": 10,
   "metadata": {},
   "outputs": [
    {
     "data": {
      "text/html": [
       "<div>\n",
       "<style scoped>\n",
       "    .dataframe tbody tr th:only-of-type {\n",
       "        vertical-align: middle;\n",
       "    }\n",
       "\n",
       "    .dataframe tbody tr th {\n",
       "        vertical-align: top;\n",
       "    }\n",
       "\n",
       "    .dataframe thead th {\n",
       "        text-align: right;\n",
       "    }\n",
       "</style>\n",
       "<table border=\"1\" class=\"dataframe\">\n",
       "  <thead>\n",
       "    <tr style=\"text-align: right;\">\n",
       "      <th></th>\n",
       "      <th>identifier</th>\n",
       "      <th>container_number</th>\n",
       "      <th>container_length</th>\n",
       "      <th>container_height</th>\n",
       "      <th>container_width</th>\n",
       "      <th>container_type</th>\n",
       "      <th>load_status</th>\n",
       "    </tr>\n",
       "  </thead>\n",
       "  <tbody>\n",
       "    <tr>\n",
       "      <th>0</th>\n",
       "      <td>201801010</td>\n",
       "      <td>FCIU9250931</td>\n",
       "      <td>4000</td>\n",
       "      <td>906</td>\n",
       "      <td>800</td>\n",
       "      <td>NaN</td>\n",
       "      <td>Loaded</td>\n",
       "    </tr>\n",
       "    <tr>\n",
       "      <th>1</th>\n",
       "      <td>201801011</td>\n",
       "      <td>EITU1595313</td>\n",
       "      <td>4000</td>\n",
       "      <td>906</td>\n",
       "      <td>802</td>\n",
       "      <td>4EB0</td>\n",
       "      <td>Loaded</td>\n",
       "    </tr>\n",
       "    <tr>\n",
       "      <th>2</th>\n",
       "      <td>201801012</td>\n",
       "      <td>FCIU9250931</td>\n",
       "      <td>4000</td>\n",
       "      <td>906</td>\n",
       "      <td>800</td>\n",
       "      <td>NaN</td>\n",
       "      <td>Loaded</td>\n",
       "    </tr>\n",
       "    <tr>\n",
       "      <th>3</th>\n",
       "      <td>201801013</td>\n",
       "      <td>BMOU5389685</td>\n",
       "      <td>0</td>\n",
       "      <td>0</td>\n",
       "      <td>0</td>\n",
       "      <td>NaN</td>\n",
       "      <td>Loaded</td>\n",
       "    </tr>\n",
       "    <tr>\n",
       "      <th>4</th>\n",
       "      <td>201801014</td>\n",
       "      <td>EMCU5289450</td>\n",
       "      <td>4000</td>\n",
       "      <td>900</td>\n",
       "      <td>800</td>\n",
       "      <td>45R1</td>\n",
       "      <td>Loaded</td>\n",
       "    </tr>\n",
       "  </tbody>\n",
       "</table>\n",
       "</div>"
      ],
      "text/plain": [
       "   identifier container_number  container_length  container_height  \\\n",
       "0   201801010      FCIU9250931              4000               906   \n",
       "1   201801011      EITU1595313              4000               906   \n",
       "2   201801012      FCIU9250931              4000               906   \n",
       "3   201801013      BMOU5389685                 0                 0   \n",
       "4   201801014      EMCU5289450              4000               900   \n",
       "\n",
       "   container_width container_type load_status  \n",
       "0              800            NaN      Loaded  \n",
       "1              802           4EB0      Loaded  \n",
       "2              800            NaN      Loaded  \n",
       "3                0            NaN      Loaded  \n",
       "4              800           45R1      Loaded  "
      ]
     },
     "execution_count": 10,
     "metadata": {},
     "output_type": "execute_result"
    }
   ],
   "source": [
    "# check if the dropped columns worked\n",
    "containers_2018.head()"
   ]
  },
  {
   "cell_type": "code",
   "execution_count": 11,
   "metadata": {},
   "outputs": [
    {
     "data": {
      "text/html": [
       "<div>\n",
       "<style scoped>\n",
       "    .dataframe tbody tr th:only-of-type {\n",
       "        vertical-align: middle;\n",
       "    }\n",
       "\n",
       "    .dataframe tbody tr th {\n",
       "        vertical-align: top;\n",
       "    }\n",
       "\n",
       "    .dataframe thead th {\n",
       "        text-align: right;\n",
       "    }\n",
       "</style>\n",
       "<table border=\"1\" class=\"dataframe\">\n",
       "  <thead>\n",
       "    <tr style=\"text-align: right;\">\n",
       "      <th></th>\n",
       "      <th>identifier</th>\n",
       "      <th>container_length</th>\n",
       "      <th>container_height</th>\n",
       "      <th>container_width</th>\n",
       "    </tr>\n",
       "  </thead>\n",
       "  <tbody>\n",
       "    <tr>\n",
       "      <th>count</th>\n",
       "      <td>3.151239e+07</td>\n",
       "      <td>3.151239e+07</td>\n",
       "      <td>3.151239e+07</td>\n",
       "      <td>3.151239e+07</td>\n",
       "    </tr>\n",
       "    <tr>\n",
       "      <th>mean</th>\n",
       "      <td>1.758320e+12</td>\n",
       "      <td>3.164939e+03</td>\n",
       "      <td>7.662627e+02</td>\n",
       "      <td>7.093328e+02</td>\n",
       "    </tr>\n",
       "    <tr>\n",
       "      <th>std</th>\n",
       "      <td>8.417574e+11</td>\n",
       "      <td>1.378522e+03</td>\n",
       "      <td>2.783135e+02</td>\n",
       "      <td>2.542615e+02</td>\n",
       "    </tr>\n",
       "    <tr>\n",
       "      <th>min</th>\n",
       "      <td>2.018010e+08</td>\n",
       "      <td>0.000000e+00</td>\n",
       "      <td>0.000000e+00</td>\n",
       "      <td>0.000000e+00</td>\n",
       "    </tr>\n",
       "    <tr>\n",
       "      <th>25%</th>\n",
       "      <td>2.018022e+12</td>\n",
       "      <td>2.000000e+03</td>\n",
       "      <td>8.060000e+02</td>\n",
       "      <td>8.000000e+02</td>\n",
       "    </tr>\n",
       "    <tr>\n",
       "      <th>50%</th>\n",
       "      <td>2.018061e+12</td>\n",
       "      <td>4.000000e+03</td>\n",
       "      <td>9.000000e+02</td>\n",
       "      <td>8.000000e+02</td>\n",
       "    </tr>\n",
       "    <tr>\n",
       "      <th>75%</th>\n",
       "      <td>2.018092e+12</td>\n",
       "      <td>4.000000e+03</td>\n",
       "      <td>9.000000e+02</td>\n",
       "      <td>8.000000e+02</td>\n",
       "    </tr>\n",
       "    <tr>\n",
       "      <th>max</th>\n",
       "      <td>2.018010e+13</td>\n",
       "      <td>8.600000e+03</td>\n",
       "      <td>2.400000e+03</td>\n",
       "      <td>1.306000e+03</td>\n",
       "    </tr>\n",
       "  </tbody>\n",
       "</table>\n",
       "</div>"
      ],
      "text/plain": [
       "         identifier  container_length  container_height  container_width\n",
       "count  3.151239e+07      3.151239e+07      3.151239e+07     3.151239e+07\n",
       "mean   1.758320e+12      3.164939e+03      7.662627e+02     7.093328e+02\n",
       "std    8.417574e+11      1.378522e+03      2.783135e+02     2.542615e+02\n",
       "min    2.018010e+08      0.000000e+00      0.000000e+00     0.000000e+00\n",
       "25%    2.018022e+12      2.000000e+03      8.060000e+02     8.000000e+02\n",
       "50%    2.018061e+12      4.000000e+03      9.000000e+02     8.000000e+02\n",
       "75%    2.018092e+12      4.000000e+03      9.000000e+02     8.000000e+02\n",
       "max    2.018010e+13      8.600000e+03      2.400000e+03     1.306000e+03"
      ]
     },
     "execution_count": 11,
     "metadata": {},
     "output_type": "execute_result"
    }
   ],
   "source": [
    "# getting the a statistical summary\n",
    "containers_2018.describe()"
   ]
  },
  {
   "cell_type": "code",
   "execution_count": 12,
   "metadata": {},
   "outputs": [
    {
     "name": "stdout",
     "output_type": "stream",
     "text": [
      "3587725\n",
      "3497132\n",
      "3587725\n"
     ]
    }
   ],
   "source": [
    "# looking how many of them are zero since the minimum displays zero\n",
    "print(len(containers_2018[containers_2018['container_width'] == 0 ]))\n",
    "print(len(containers_2018[containers_2018['container_length'] == 0 ]))\n",
    "print(len(containers_2018[containers_2018['container_height'] == 0 ]))"
   ]
  },
  {
   "cell_type": "code",
   "execution_count": 13,
   "metadata": {},
   "outputs": [
    {
     "data": {
      "text/plain": [
       "identifier                0\n",
       "container_number        859\n",
       "container_length          0\n",
       "container_height          0\n",
       "container_width           0\n",
       "container_type      3741397\n",
       "load_status           55837\n",
       "dtype: int64"
      ]
     },
     "execution_count": 13,
     "metadata": {},
     "output_type": "execute_result"
    }
   ],
   "source": [
    "# comparing to how many null values after previous changes\n",
    "containers_2018.isnull().sum()"
   ]
  },
  {
   "cell_type": "code",
   "execution_count": null,
   "metadata": {},
   "outputs": [],
   "source": [
    "# noticing that a lot of the null values include zero values for container dimensions\n",
    "containers_2018[containers_2018['container_type'].isnull()]"
   ]
  },
  {
   "cell_type": "code",
   "execution_count": 5,
   "metadata": {},
   "outputs": [],
   "source": [
    "# dropping the null values from container types since they are not useful\n",
    "container_type_null_index = containers_2018[containers_2018['container_type'].isnull()].index\n",
    "containers_2018.drop(container_type_null_index, inplace = True)\n",
    "log_changes('Dropping empty container type values')"
   ]
  },
  {
   "cell_type": "code",
   "execution_count": 6,
   "metadata": {},
   "outputs": [
    {
     "data": {
      "text/html": [
       "<div>\n",
       "<style scoped>\n",
       "    .dataframe tbody tr th:only-of-type {\n",
       "        vertical-align: middle;\n",
       "    }\n",
       "\n",
       "    .dataframe tbody tr th {\n",
       "        vertical-align: top;\n",
       "    }\n",
       "\n",
       "    .dataframe thead th {\n",
       "        text-align: right;\n",
       "    }\n",
       "</style>\n",
       "<table border=\"1\" class=\"dataframe\">\n",
       "  <thead>\n",
       "    <tr style=\"text-align: right;\">\n",
       "      <th></th>\n",
       "      <th>identifier</th>\n",
       "      <th>container_number</th>\n",
       "      <th>container_length</th>\n",
       "      <th>container_height</th>\n",
       "      <th>container_width</th>\n",
       "      <th>container_type</th>\n",
       "    </tr>\n",
       "  </thead>\n",
       "  <tbody>\n",
       "    <tr>\n",
       "      <th>139138</th>\n",
       "      <td>2018010325912</td>\n",
       "      <td>NC</td>\n",
       "      <td>4000</td>\n",
       "      <td>900</td>\n",
       "      <td>800</td>\n",
       "      <td>45R1</td>\n",
       "    </tr>\n",
       "    <tr>\n",
       "      <th>214743</th>\n",
       "      <td>2018010376850</td>\n",
       "      <td>NC</td>\n",
       "      <td>2000</td>\n",
       "      <td>806</td>\n",
       "      <td>800</td>\n",
       "      <td>22P1</td>\n",
       "    </tr>\n",
       "    <tr>\n",
       "      <th>225403</th>\n",
       "      <td>2018010384030</td>\n",
       "      <td>NC</td>\n",
       "      <td>2000</td>\n",
       "      <td>806</td>\n",
       "      <td>800</td>\n",
       "      <td>22P1</td>\n",
       "    </tr>\n",
       "    <tr>\n",
       "      <th>264009</th>\n",
       "      <td>20180103109140</td>\n",
       "      <td>NC</td>\n",
       "      <td>4000</td>\n",
       "      <td>900</td>\n",
       "      <td>800</td>\n",
       "      <td>4500</td>\n",
       "    </tr>\n",
       "    <tr>\n",
       "      <th>264192</th>\n",
       "      <td>20180103109178</td>\n",
       "      <td>NC</td>\n",
       "      <td>4000</td>\n",
       "      <td>900</td>\n",
       "      <td>800</td>\n",
       "      <td>4500</td>\n",
       "    </tr>\n",
       "    <tr>\n",
       "      <th>...</th>\n",
       "      <td>...</td>\n",
       "      <td>...</td>\n",
       "      <td>...</td>\n",
       "      <td>...</td>\n",
       "      <td>...</td>\n",
       "      <td>...</td>\n",
       "    </tr>\n",
       "    <tr>\n",
       "      <th>1365261</th>\n",
       "      <td>2018122993799</td>\n",
       "      <td>NC</td>\n",
       "      <td>500</td>\n",
       "      <td>900</td>\n",
       "      <td>800</td>\n",
       "      <td>5599</td>\n",
       "    </tr>\n",
       "    <tr>\n",
       "      <th>1365262</th>\n",
       "      <td>2018122993800</td>\n",
       "      <td>NC</td>\n",
       "      <td>500</td>\n",
       "      <td>900</td>\n",
       "      <td>800</td>\n",
       "      <td>5599</td>\n",
       "    </tr>\n",
       "    <tr>\n",
       "      <th>1365263</th>\n",
       "      <td>2018122993801</td>\n",
       "      <td>NC</td>\n",
       "      <td>500</td>\n",
       "      <td>900</td>\n",
       "      <td>800</td>\n",
       "      <td>5599</td>\n",
       "    </tr>\n",
       "    <tr>\n",
       "      <th>1365264</th>\n",
       "      <td>2018122993802</td>\n",
       "      <td>NC</td>\n",
       "      <td>500</td>\n",
       "      <td>900</td>\n",
       "      <td>800</td>\n",
       "      <td>5599</td>\n",
       "    </tr>\n",
       "    <tr>\n",
       "      <th>1374678</th>\n",
       "      <td>2018122997121</td>\n",
       "      <td>NC</td>\n",
       "      <td>500</td>\n",
       "      <td>900</td>\n",
       "      <td>800</td>\n",
       "      <td>5599</td>\n",
       "    </tr>\n",
       "  </tbody>\n",
       "</table>\n",
       "<p>2559 rows × 6 columns</p>\n",
       "</div>"
      ],
      "text/plain": [
       "             identifier container_number  container_length  container_height  \\\n",
       "139138    2018010325912               NC              4000               900   \n",
       "214743    2018010376850               NC              2000               806   \n",
       "225403    2018010384030               NC              2000               806   \n",
       "264009   20180103109140               NC              4000               900   \n",
       "264192   20180103109178               NC              4000               900   \n",
       "...                 ...              ...               ...               ...   \n",
       "1365261   2018122993799               NC               500               900   \n",
       "1365262   2018122993800               NC               500               900   \n",
       "1365263   2018122993801               NC               500               900   \n",
       "1365264   2018122993802               NC               500               900   \n",
       "1374678   2018122997121               NC               500               900   \n",
       "\n",
       "         container_width container_type  \n",
       "139138               800           45R1  \n",
       "214743               800           22P1  \n",
       "225403               800           22P1  \n",
       "264009               800           4500  \n",
       "264192               800           4500  \n",
       "...                  ...            ...  \n",
       "1365261              800           5599  \n",
       "1365262              800           5599  \n",
       "1365263              800           5599  \n",
       "1365264              800           5599  \n",
       "1374678              800           5599  \n",
       "\n",
       "[2559 rows x 6 columns]"
      ]
     },
     "execution_count": 6,
     "metadata": {},
     "output_type": "execute_result"
    }
   ],
   "source": [
    "# noticing there are duplicates pertaining to the NC container \n",
    "containers_2018[containers_2018['container_number']== 'NC']"
   ]
  },
  {
   "cell_type": "code",
   "execution_count": 13,
   "metadata": {},
   "outputs": [],
   "source": [
    "# dropping duplicates that share NC container and logging this change\n",
    "NC_index = containers_2018[containers_2018['container_number']== 'NC'].index\n",
    "containers_2018.drop(NC_index[1:], inplace= True)\n",
    "log_changes('Dropping duplicates from the container number column')"
   ]
  },
  {
   "cell_type": "code",
   "execution_count": 15,
   "metadata": {},
   "outputs": [],
   "source": [
    "# dropping duplicates with NC NC1 containers\n",
    "NC1_index = containers_2018[containers_2018['container_number']== 'NC NC1'].index\n",
    "containers_2018.drop(NC1_index[1:], inplace= True)\n",
    "log_changes('Dropping duplicates from the container number column')"
   ]
  },
  {
   "cell_type": "code",
   "execution_count": 16,
   "metadata": {},
   "outputs": [],
   "source": [
    "# dropping duplicates with loose cargo since this refers to cargo that didn't hold any goods\n",
    "loose_index = containers_2018[containers_2018['container_number']== 'LOOSE CARGO'].index\n",
    "containers_2018.drop(loose_index[1:], inplace= True)\n",
    "log_changes('Dropping duplicates from the container number column')"
   ]
  },
  {
   "cell_type": "code",
   "execution_count": 7,
   "metadata": {},
   "outputs": [
    {
     "data": {
      "text/plain": [
       "identifier          0\n",
       "container_number    1\n",
       "container_length    0\n",
       "container_height    0\n",
       "container_width     0\n",
       "container_type      0\n",
       "dtype: int64"
      ]
     },
     "execution_count": 7,
     "metadata": {},
     "output_type": "execute_result"
    }
   ],
   "source": [
    "# again checking for nulls now that i dropped duplicates\n",
    "containers_2018.isnull().sum()"
   ]
  },
  {
   "cell_type": "code",
   "execution_count": 17,
   "metadata": {},
   "outputs": [],
   "source": [
    "# dropping the one null value thats left \n",
    "container_number_null_index = containers_2018[containers_2018['container_number'].isnull()].index\n",
    "containers_2018.drop(container_number_null_index, inplace= True)\n",
    "log_changes('Dropping empty container number values')"
   ]
  },
  {
   "cell_type": "code",
   "execution_count": 18,
   "metadata": {},
   "outputs": [],
   "source": [
    "# since the identifier is a primary index i am dropping duplicates on that\n",
    "containers_2018.drop_duplicates(subset = ['identifier'], inplace = True)\n",
    "log_changes('Dropping duplicates')"
   ]
  },
  {
   "cell_type": "code",
   "execution_count": 10,
   "metadata": {},
   "outputs": [
    {
     "data": {
      "text/plain": [
       "identifier          0\n",
       "container_number    0\n",
       "container_length    0\n",
       "container_height    0\n",
       "container_width     0\n",
       "container_type      0\n",
       "dtype: int64"
      ]
     },
     "execution_count": 10,
     "metadata": {},
     "output_type": "execute_result"
    }
   ],
   "source": [
    "# verifying there are no more null values\n",
    "containers_2018.isnull().sum()"
   ]
  },
  {
   "cell_type": "code",
   "execution_count": 19,
   "metadata": {},
   "outputs": [],
   "source": [
    "# exporting the cleaned dataframe\n",
    "containers_2018.to_csv('containers_cleaned.csv', index= False, sep= '|')\n",
    "\n",
    "# saving the changes into my log file \n",
    "log_changes('exporting cleaned container data to a csv file')"
   ]
  }
 ],
 "metadata": {
  "kernelspec": {
   "display_name": "Python 3.10.7 64-bit (microsoft store)",
   "language": "python",
   "name": "python3"
  },
  "language_info": {
   "codemirror_mode": {
    "name": "ipython",
    "version": 3
   },
   "file_extension": ".py",
   "mimetype": "text/x-python",
   "name": "python",
   "nbconvert_exporter": "python",
   "pygments_lexer": "ipython3",
   "version": "3.10.9 (tags/v3.10.9:1dd9be6, Dec  6 2022, 20:01:21) [MSC v.1934 64 bit (AMD64)]"
  },
  "orig_nbformat": 4,
  "vscode": {
   "interpreter": {
    "hash": "bbfe32ef2d682afc81675f659b6e963709ee8781465944d63faf85c80837d803"
   }
  }
 },
 "nbformat": 4,
 "nbformat_minor": 2
}

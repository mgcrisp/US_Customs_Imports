{
 "cells": [
  {
   "attachments": {},
   "cell_type": "markdown",
   "metadata": {},
   "source": [
    "### This notebook includes scripts for cleaning the 2018 Tariff data set which includes information on the Harmonized System Codes\n",
    "\n",
    "### Harmonized number pertains to the commodity code in a schedule B document. Harmonized value is total price in dollars and harmonized weight is total weight of the commodity this is useful information for tax purposes\n",
    "\n",
    "### I also conducted some data transformation when it comes to the weight values by creating a function that converts a column all into kilograms."
   ]
  },
  {
   "cell_type": "code",
   "execution_count": 1,
   "metadata": {},
   "outputs": [],
   "source": [
    "# importing libraries\n",
    "import pandas as pd\n",
    "import matplotlib.pyplot as plt\n",
    "from math import ceil\n",
    "import numpy as np"
   ]
  },
  {
   "cell_type": "code",
   "execution_count": 2,
   "metadata": {},
   "outputs": [],
   "source": [
    "# creating a log changes file \n",
    "log_file_path = 'C:/Users/Public/project_1/log_file.txt'\n",
    "\n",
    "# take the current time stamp\n",
    "now = pd.Timestamp.now()\n",
    "\n",
    "def log_changes(message):\n",
    "    \"\"\" \n",
    "    Function to save a \"message\" regarding the changes made to the data frames\n",
    "    with a timestamp of the time it was made.\n",
    "    \"\"\"\n",
    "    \n",
    "    with open(log_file_path, 'a') as f:\n",
    "        message = now.strftime('%Y-%m-%d %H:%M:%S') +': ' + message + ' on the Tariff Table \\n'\n",
    "        f.write(message)\n",
    "\t\t"
   ]
  },
  {
   "cell_type": "code",
   "execution_count": null,
   "metadata": {},
   "outputs": [],
   "source": [
    "# saving the CSV's filepath\n",
    "file_path_tariff_0 = 'C:/Users/Public/project_1/bronze/tariff/ams__tariff_2018__202001290000_part_0.csv'\n",
    "file_path_tariff_1 = 'C:/Users/Public/project_1/bronze/tariff/ams__tariff_2018__202001290000_part_1.csv'\n",
    "\n",
    "# reading the file paths in \n",
    "tariff_0 = pd.read_csv(file_path_tariff_0)\n",
    "tariff_1 = pd.read_csv(file_path_tariff_1)\n",
    "\n",
    "# creating a single data frame \n",
    "tariff_2018 = pd.concat([tariff_0, tariff_1], axis=0)\n"
   ]
  },
  {
   "cell_type": "code",
   "execution_count": 11,
   "metadata": {},
   "outputs": [
    {
     "name": "stdout",
     "output_type": "stream",
     "text": [
      "<class 'pandas.core.frame.DataFrame'>\n",
      "Int64Index: 16118492 entries, 0 to 6118491\n",
      "Data columns (total 7 columns):\n",
      " #   Column                       Dtype  \n",
      "---  ------                       -----  \n",
      " 0   identifier                   int64  \n",
      " 1   container_number             object \n",
      " 2   description_sequence_number  int64  \n",
      " 3   harmonized_number            object \n",
      " 4   harmonized_value             float64\n",
      " 5   harmonized_weight            int64  \n",
      " 6   harmonized_weight_unit       object \n",
      "dtypes: float64(1), int64(3), object(3)\n",
      "memory usage: 983.8+ MB\n"
     ]
    },
    {
     "data": {
      "text/html": [
       "<div>\n",
       "<style scoped>\n",
       "    .dataframe tbody tr th:only-of-type {\n",
       "        vertical-align: middle;\n",
       "    }\n",
       "\n",
       "    .dataframe tbody tr th {\n",
       "        vertical-align: top;\n",
       "    }\n",
       "\n",
       "    .dataframe thead th {\n",
       "        text-align: right;\n",
       "    }\n",
       "</style>\n",
       "<table border=\"1\" class=\"dataframe\">\n",
       "  <thead>\n",
       "    <tr style=\"text-align: right;\">\n",
       "      <th></th>\n",
       "      <th>identifier</th>\n",
       "      <th>container_number</th>\n",
       "      <th>description_sequence_number</th>\n",
       "      <th>harmonized_number</th>\n",
       "      <th>harmonized_value</th>\n",
       "      <th>harmonized_weight</th>\n",
       "      <th>harmonized_weight_unit</th>\n",
       "    </tr>\n",
       "  </thead>\n",
       "  <tbody>\n",
       "    <tr>\n",
       "      <th>0</th>\n",
       "      <td>2018010128</td>\n",
       "      <td>TGHU0209174</td>\n",
       "      <td>1</td>\n",
       "      <td>36.0</td>\n",
       "      <td>3280.0</td>\n",
       "      <td>16430</td>\n",
       "      <td>Kilograms</td>\n",
       "    </tr>\n",
       "    <tr>\n",
       "      <th>1</th>\n",
       "      <td>2018010169</td>\n",
       "      <td>SUDU8579238</td>\n",
       "      <td>1</td>\n",
       "      <td>8479.0</td>\n",
       "      <td>NaN</td>\n",
       "      <td>5254</td>\n",
       "      <td>Kilograms</td>\n",
       "    </tr>\n",
       "    <tr>\n",
       "      <th>2</th>\n",
       "      <td>2018010170</td>\n",
       "      <td>SUDU8784361</td>\n",
       "      <td>1</td>\n",
       "      <td>93.0</td>\n",
       "      <td>2170.0</td>\n",
       "      <td>10880</td>\n",
       "      <td>Kilograms</td>\n",
       "    </tr>\n",
       "    <tr>\n",
       "      <th>3</th>\n",
       "      <td>20180101111</td>\n",
       "      <td>NC</td>\n",
       "      <td>1</td>\n",
       "      <td>8320.0</td>\n",
       "      <td>2.0</td>\n",
       "      <td>1300</td>\n",
       "      <td>Kilograms</td>\n",
       "    </tr>\n",
       "    <tr>\n",
       "      <th>4</th>\n",
       "      <td>20180101112</td>\n",
       "      <td>NC</td>\n",
       "      <td>1</td>\n",
       "      <td>8320.0</td>\n",
       "      <td>420.0</td>\n",
       "      <td>2130</td>\n",
       "      <td>Kilograms</td>\n",
       "    </tr>\n",
       "  </tbody>\n",
       "</table>\n",
       "</div>"
      ],
      "text/plain": [
       "    identifier container_number  description_sequence_number  \\\n",
       "0   2018010128      TGHU0209174                            1   \n",
       "1   2018010169      SUDU8579238                            1   \n",
       "2   2018010170      SUDU8784361                            1   \n",
       "3  20180101111               NC                            1   \n",
       "4  20180101112               NC                            1   \n",
       "\n",
       "  harmonized_number  harmonized_value  harmonized_weight  \\\n",
       "0              36.0            3280.0              16430   \n",
       "1            8479.0               NaN               5254   \n",
       "2              93.0            2170.0              10880   \n",
       "3            8320.0               2.0               1300   \n",
       "4            8320.0             420.0               2130   \n",
       "\n",
       "  harmonized_weight_unit  \n",
       "0              Kilograms  \n",
       "1              Kilograms  \n",
       "2              Kilograms  \n",
       "3              Kilograms  \n",
       "4              Kilograms  "
      ]
     },
     "execution_count": 11,
     "metadata": {},
     "output_type": "execute_result"
    }
   ],
   "source": [
    "# taking a closer look at my data frame \n",
    "tariff_2018.info()\n",
    "tariff_2018.head()"
   ]
  },
  {
   "cell_type": "code",
   "execution_count": 13,
   "metadata": {},
   "outputs": [
    {
     "data": {
      "text/plain": [
       "identifier                           0\n",
       "container_number                     0\n",
       "description_sequence_number          0\n",
       "harmonized_number              1128256\n",
       "harmonized_value                383406\n",
       "harmonized_weight                    0\n",
       "harmonized_weight_unit         5965020\n",
       "dtype: int64"
      ]
     },
     "execution_count": 13,
     "metadata": {},
     "output_type": "execute_result"
    }
   ],
   "source": [
    "# getting count of the null values \n",
    "tariff_2018.isnull().sum()"
   ]
  },
  {
   "cell_type": "code",
   "execution_count": 14,
   "metadata": {},
   "outputs": [
    {
     "data": {
      "text/plain": [
       "array(['Kilograms', 'Pounds', nan, 'Measurement Ton', 'Short Ton',\n",
       "       'Metric Ton', 'Long Ton'], dtype=object)"
      ]
     },
     "execution_count": 14,
     "metadata": {},
     "output_type": "execute_result"
    }
   ],
   "source": [
    "# checking specific values for the weight unit\n",
    "tariff_2018['harmonized_weight_unit'].unique()"
   ]
  },
  {
   "cell_type": "code",
   "execution_count": 4,
   "metadata": {},
   "outputs": [
    {
     "data": {
      "text/plain": [
       "Kilograms          9517491\n",
       "Pounds              634604\n",
       "Short Ton              863\n",
       "Measurement Ton        504\n",
       "Long Ton                 6\n",
       "Metric Ton               4\n",
       "Name: harmonized_weight_unit, dtype: int64"
      ]
     },
     "execution_count": 4,
     "metadata": {},
     "output_type": "execute_result"
    }
   ],
   "source": [
    "# seeing how many values each measurement unit carries\n",
    "tariff_2018['harmonized_weight_unit'].value_counts()"
   ]
  },
  {
   "cell_type": "code",
   "execution_count": 16,
   "metadata": {},
   "outputs": [
    {
     "data": {
      "image/png": "[encoded data removed]",
      "text/plain": [
       "<Figure size 640x480 with 1 Axes>"
      ]
     },
     "metadata": {},
     "output_type": "display_data"
    }
   ],
   "source": [
    "# A visual representation to display that most of the commodities are in kilograms\n",
    "# which is a deciding factor to convert into KG\n",
    "\n",
    "df = pd.DataFrame({\n",
    "    'weight units': ['Kilograms','Pounds', 'Short Ton',  'Measurement Ton', 'Long Ton', 'Metric Ton' ],\n",
    "    'count': [9517323, 634594, 863, 504, 6, 4]\n",
    "})\n",
    "  \n",
    "# plotting a bar graph\n",
    "df.plot(x=\"weight units\", y=\"count\", kind=\"bar\")\n",
    "plt.show()"
   ]
  },
  {
   "cell_type": "code",
   "execution_count": 4,
   "metadata": {},
   "outputs": [],
   "source": [
    "# creating a function that will convert each row to kilograms\n",
    "def to_kilograms (original_weight_unit, original_weight):\n",
    "    \"\"\"\n",
    "    A function to convert each value in weight_unit column to kilograms\n",
    "    \"\"\"\n",
    "\n",
    "    if original_weight_unit == 'Kilograms':\n",
    "        return original_weight*1\n",
    "    elif original_weight_unit == 'Pounds':\n",
    "        return original_weight*0.453592\n",
    "    elif original_weight_unit == 'Metric Ton':\n",
    "        return original_weight*1000\n",
    "    elif original_weight_unit == 'Long Ton':\n",
    "        return original_weight*1016.05\n",
    "    elif original_weight_unit == 'Short Ton':\n",
    "        return original_weight*907.185\n",
    "    else: \n",
    "        return original_weight"
   ]
  },
  {
   "cell_type": "code",
   "execution_count": 5,
   "metadata": {},
   "outputs": [
    {
     "data": {
      "text/html": [
       "<div>\n",
       "<style scoped>\n",
       "    .dataframe tbody tr th:only-of-type {\n",
       "        vertical-align: middle;\n",
       "    }\n",
       "\n",
       "    .dataframe tbody tr th {\n",
       "        vertical-align: top;\n",
       "    }\n",
       "\n",
       "    .dataframe thead th {\n",
       "        text-align: right;\n",
       "    }\n",
       "</style>\n",
       "<table border=\"1\" class=\"dataframe\">\n",
       "  <thead>\n",
       "    <tr style=\"text-align: right;\">\n",
       "      <th></th>\n",
       "      <th>identifier</th>\n",
       "      <th>container_number</th>\n",
       "      <th>description_sequence_number</th>\n",
       "      <th>harmonized_number</th>\n",
       "      <th>harmonized_value</th>\n",
       "      <th>harmonized_weight</th>\n",
       "      <th>harmonized_weight_unit</th>\n",
       "      <th>harmonized_weight_kg</th>\n",
       "    </tr>\n",
       "  </thead>\n",
       "  <tbody>\n",
       "    <tr>\n",
       "      <th>0</th>\n",
       "      <td>2018010128</td>\n",
       "      <td>TGHU0209174</td>\n",
       "      <td>1</td>\n",
       "      <td>36.0</td>\n",
       "      <td>3280.0</td>\n",
       "      <td>16430</td>\n",
       "      <td>Kilograms</td>\n",
       "      <td>16430.0</td>\n",
       "    </tr>\n",
       "    <tr>\n",
       "      <th>1</th>\n",
       "      <td>2018010169</td>\n",
       "      <td>SUDU8579238</td>\n",
       "      <td>1</td>\n",
       "      <td>8479.0</td>\n",
       "      <td>NaN</td>\n",
       "      <td>5254</td>\n",
       "      <td>Kilograms</td>\n",
       "      <td>5254.0</td>\n",
       "    </tr>\n",
       "    <tr>\n",
       "      <th>2</th>\n",
       "      <td>2018010170</td>\n",
       "      <td>SUDU8784361</td>\n",
       "      <td>1</td>\n",
       "      <td>93.0</td>\n",
       "      <td>2170.0</td>\n",
       "      <td>10880</td>\n",
       "      <td>Kilograms</td>\n",
       "      <td>10880.0</td>\n",
       "    </tr>\n",
       "    <tr>\n",
       "      <th>3</th>\n",
       "      <td>20180101111</td>\n",
       "      <td>NC</td>\n",
       "      <td>1</td>\n",
       "      <td>8320.0</td>\n",
       "      <td>2.0</td>\n",
       "      <td>1300</td>\n",
       "      <td>Kilograms</td>\n",
       "      <td>1300.0</td>\n",
       "    </tr>\n",
       "    <tr>\n",
       "      <th>4</th>\n",
       "      <td>20180101112</td>\n",
       "      <td>NC</td>\n",
       "      <td>1</td>\n",
       "      <td>8320.0</td>\n",
       "      <td>420.0</td>\n",
       "      <td>2130</td>\n",
       "      <td>Kilograms</td>\n",
       "      <td>2130.0</td>\n",
       "    </tr>\n",
       "  </tbody>\n",
       "</table>\n",
       "</div>"
      ],
      "text/plain": [
       "    identifier container_number  description_sequence_number  \\\n",
       "0   2018010128      TGHU0209174                            1   \n",
       "1   2018010169      SUDU8579238                            1   \n",
       "2   2018010170      SUDU8784361                            1   \n",
       "3  20180101111               NC                            1   \n",
       "4  20180101112               NC                            1   \n",
       "\n",
       "  harmonized_number  harmonized_value  harmonized_weight  \\\n",
       "0              36.0            3280.0              16430   \n",
       "1            8479.0               NaN               5254   \n",
       "2              93.0            2170.0              10880   \n",
       "3            8320.0               2.0               1300   \n",
       "4            8320.0             420.0               2130   \n",
       "\n",
       "  harmonized_weight_unit  harmonized_weight_kg  \n",
       "0              Kilograms               16430.0  \n",
       "1              Kilograms                5254.0  \n",
       "2              Kilograms               10880.0  \n",
       "3              Kilograms                1300.0  \n",
       "4              Kilograms                2130.0  "
      ]
     },
     "execution_count": 5,
     "metadata": {},
     "output_type": "execute_result"
    }
   ],
   "source": [
    "# Applying the to_kilograms function\n",
    "tariff_2018['harmonized_weight_kg'] = tariff_2018.apply(lambda row: to_kilograms(row['harmonized_weight_unit'], \n",
    "                                                        row['harmonized_weight']), axis=1)\n",
    "\n",
    "# rounding the values\n",
    "tariff_2018['harmonized_weight_kg'] = round(tariff_2018['harmonized_weight_kg'])\n",
    "\n",
    "# saving the changes\n",
    "log_changes('creating a kg column')"
   ]
  },
  {
   "cell_type": "code",
   "execution_count": null,
   "metadata": {},
   "outputs": [],
   "source": [
    "# looking at all the values for measurment ton\n",
    "tariff_2018[tariff_2018['harmonized_weight_unit']== 'Measurement Ton']\n"
   ]
  },
  {
   "attachments": {},
   "cell_type": "markdown",
   "metadata": {},
   "source": [
    "### Decided to drop  measurement ton since there are mainly null values within the harmonized number field. The measurment of unit could be an indicator of a mistake  Since measurement ton is not an appropriate unit of weight.I wouldn't want to touch it until I got clarity of what it represents hence dropping it"
   ]
  },
  {
   "cell_type": "code",
   "execution_count": 19,
   "metadata": {},
   "outputs": [],
   "source": [
    "# dropping the rows corresponding to measurement ton\n",
    "measurment_ton_index = tariff_2018[tariff_2018['harmonized_weight_unit'] == 'Measurement Ton'].index\n",
    "tariff_2018.drop(measurment_ton_index, inplace = True)\n",
    "\n",
    "# saving the changes\n",
    "log_changes('Dropping values that have measurment ton')"
   ]
  },
  {
   "cell_type": "code",
   "execution_count": 26,
   "metadata": {},
   "outputs": [],
   "source": [
    "# drop the null values \n",
    "log_changes('Dropping null values')\n",
    "tariff_2018.dropna(inplace = True)"
   ]
  },
  {
   "cell_type": "code",
   "execution_count": 27,
   "metadata": {},
   "outputs": [
    {
     "data": {
      "text/plain": [
       "identifier                     0\n",
       "container_number               0\n",
       "description_sequence_number    0\n",
       "harmonized_number              0\n",
       "harmonized_value               0\n",
       "harmonized_weight              0\n",
       "harmonized_weight_unit         0\n",
       "harmonized_weight_kg           0\n",
       "dtype: int64"
      ]
     },
     "execution_count": 27,
     "metadata": {},
     "output_type": "execute_result"
    }
   ],
   "source": [
    "# checking status of null values after recent changes\n",
    "tariff_2018.isnull().sum()\n",
    "\n"
   ]
  },
  {
   "cell_type": "code",
   "execution_count": 29,
   "metadata": {},
   "outputs": [],
   "source": [
    "# dropping duplicates for identifier \n",
    "# duplicates can complicate my queries when using it as a primary index\n",
    "tariff_2018.drop_duplicates(subset=['identifier'], inplace= True)\n",
    "\n",
    "\n",
    "log_changes('dropping duplicates')"
   ]
  },
  {
   "cell_type": "code",
   "execution_count": 35,
   "metadata": {},
   "outputs": [
    {
     "data": {
      "text/plain": [
       "NC             47638\n",
       "NC NC1          4870\n",
       "INBULK1         2413\n",
       "MEDU8047692      279\n",
       "YMMU4024266      277\n",
       "               ...  \n",
       "SUDU1793103        1\n",
       "FESU5109600        1\n",
       "TCNU6239446        1\n",
       "HASU4543609        1\n",
       "TRLU6909278        1\n",
       "Name: container_number, Length: 1927711, dtype: int64"
      ]
     },
     "execution_count": 35,
     "metadata": {},
     "output_type": "execute_result"
    }
   ],
   "source": [
    "# checking the counts for container number\n",
    "tariff_2018['container_number'].value_counts()"
   ]
  },
  {
   "cell_type": "code",
   "execution_count": 36,
   "metadata": {},
   "outputs": [],
   "source": [
    "# dropping NC container value duplicates \n",
    "NC_index = tariff_2018[tariff_2018['container_number']== 'NC'].index\n",
    "tariff_2018.drop(NC_index[1:], inplace= True)\n",
    "\n",
    "\n",
    "log_changes('Dropping duplicates from the container number column')"
   ]
  },
  {
   "cell_type": "code",
   "execution_count": 37,
   "metadata": {},
   "outputs": [],
   "source": [
    "# dropping NC1 container duplicates \n",
    "NC1_index = tariff_2018[tariff_2018['container_number']== 'NC NC1'].index\n",
    "tariff_2018.drop(NC1_index[1:], inplace= True)\n",
    "log_changes('Dropping duplicates from the container number column')"
   ]
  },
  {
   "cell_type": "code",
   "execution_count": null,
   "metadata": {},
   "outputs": [],
   "source": [
    "# checking values for loose cargo\n",
    "tariff_2018[tariff_2018['container_number'] == 'LOOSE CARGO']"
   ]
  },
  {
   "cell_type": "code",
   "execution_count": 39,
   "metadata": {},
   "outputs": [],
   "source": [
    "# Droping duplicates since loose cargo refers to commodities not in containers \n",
    "loose_index = tariff_2018[tariff_2018['container_number']== 'LOOSE CARGO'].index\n",
    "tariff_2018.drop(loose_index[1:], inplace= True)\n",
    "log_changes('Dropping duplicates from the container number column')"
   ]
  },
  {
   "cell_type": "code",
   "execution_count": 33,
   "metadata": {},
   "outputs": [],
   "source": [
    "# exporting cleaned dataframe and logging it \n",
    "tariff_2018.to_csv('tariff__cleaned.csv', index= False, sep= '|')\n",
    "\n",
    "log_changes('exporting the data to load to sql')"
   ]
  }
 ],
 "metadata": {
  "kernelspec": {
   "display_name": "Python 3.10.7 64-bit (microsoft store)",
   "language": "python",
   "name": "python3"
  },
  "language_info": {
   "codemirror_mode": {
    "name": "ipython",
    "version": 3
   },
   "file_extension": ".py",
   "mimetype": "text/x-python",
   "name": "python",
   "nbconvert_exporter": "python",
   "pygments_lexer": "ipython3",
   "version": "3.10.9"
  },
  "orig_nbformat": 4,
  "vscode": {
   "interpreter": {
    "hash": "bbfe32ef2d682afc81675f659b6e963709ee8781465944d63faf85c80837d803"
   }
  }
 },
 "nbformat": 4,
 "nbformat_minor": 2
}
